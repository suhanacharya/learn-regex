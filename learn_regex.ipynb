{
 "cells": [
  {
   "cell_type": "markdown",
   "source": [
    "# Regex Notebook\n",
    "\n",
    "Import the regex library _re_ as follows:"
   ],
   "metadata": {
    "collapsed": false,
    "pycharm": {
     "name": "#%% md\n"
    }
   }
  },
  {
   "cell_type": "code",
   "execution_count": 4,
   "outputs": [],
   "source": [
    "import re"
   ],
   "metadata": {
    "collapsed": false,
    "pycharm": {
     "name": "#%%\n",
     "is_executing": false
    }
   }
  },
  {
   "cell_type": "markdown",
   "source": [
    "Just creating a string sentence to search on"
   ],
   "metadata": {
    "collapsed": false,
    "pycharm": {
     "name": "#%% md\n"
    }
   }
  },
  {
   "cell_type": "code",
   "execution_count": 5,
   "outputs": [],
   "source": [
    "text1 = \"This is a beautiful day\""
   ],
   "metadata": {
    "collapsed": false,
    "pycharm": {
     "name": "#%%\n",
     "is_executing": false
    }
   }
  },
  {
   "cell_type": "markdown",
   "source": [
    "## Regex Modules:\n",
    "\n",
    "There are a few regex modules that are used to search, replace etc. \n",
    "We'll see these modules in action here:"
   ],
   "metadata": {
    "collapsed": false,
    "pycharm": {
     "name": "#%% md\n"
    }
   }
  },
  {
   "cell_type": "markdown",
   "source": [
    "### The search() Module\n",
    "\n",
    "This module is used to search for as pattern present _anywhere_ in the string.\n",
    "\n",
    "**Syntax:** ``re.search(pattern, string, flags)``\n",
    "\n",
    "This module returns a re.Match Object which has a few more interesting modules like:\n",
    "\n",
    "- ``group()``\n",
    "- ``groups()``\n",
    "- ``start()``\n",
    "- ``end()``\n",
    "- ``span()``\n",
    "\n",
    "\n",
    "And a few others."
   ],
   "metadata": {
    "collapsed": false,
    "pycharm": {
     "name": "#%% md\n"
    }
   }
  },
  {
   "cell_type": "code",
   "execution_count": 6,
   "outputs": [
    {
     "data": {
      "text/plain": "<re.Match object; span=(2, 4), match='is'>"
     },
     "metadata": {},
     "output_type": "execute_result",
     "execution_count": 6
    }
   ],
   "source": [
    "re.search(r'is', text1)"
   ],
   "metadata": {
    "collapsed": false,
    "pycharm": {
     "name": "#%%\n",
     "is_executing": false
    }
   }
  },
  {
   "cell_type": "code",
   "execution_count": 7,
   "outputs": [
    {
     "name": "stdout",
     "text": [
      "<class 're.Match'>\n"
     ],
     "output_type": "stream"
    }
   ],
   "source": [
    "m = re.search(r'is', text1)\n",
    "print(type(m))"
   ],
   "metadata": {
    "collapsed": false,
    "pycharm": {
     "name": "#%%\n",
     "is_executing": false
    }
   }
  },
  {
   "cell_type": "markdown",
   "source": [
    "#### The group() Sub Module:\n",
    "\n",
    "This module returns the matched string."
   ],
   "metadata": {
    "collapsed": false,
    "pycharm": {
     "name": "#%% md\n"
    }
   }
  },
  {
   "cell_type": "code",
   "execution_count": 8,
   "outputs": [
    {
     "data": {
      "text/plain": "'is'"
     },
     "metadata": {},
     "output_type": "execute_result",
     "execution_count": 8
    }
   ],
   "source": [
    "m.group()"
   ],
   "metadata": {
    "collapsed": false,
    "pycharm": {
     "name": "#%%\n",
     "is_executing": false
    }
   }
  },
  {
   "cell_type": "markdown",
   "source": [
    "#### The start(), end(), span() Sub Modules:\n",
    "These modules return:\n",
    " - The pattern start index\n",
    " - The pattern end index\n",
    " - The pattern [start, end]\n",
    " "
   ],
   "metadata": {
    "collapsed": false,
    "pycharm": {
     "name": "#%% md\n"
    }
   }
  },
  {
   "cell_type": "code",
   "execution_count": 9,
   "outputs": [
    {
     "data": {
      "text/plain": "(2, 4, (2, 4))"
     },
     "metadata": {},
     "output_type": "execute_result",
     "execution_count": 9
    }
   ],
   "source": [
    "m.start(), m.end(), m.span()"
   ],
   "metadata": {
    "collapsed": false,
    "pycharm": {
     "name": "#%%\n",
     "is_executing": false
    }
   }
  },
  {
   "cell_type": "markdown",
   "source": [
    "### The match() Module:\n",
    "Very similar to the ``re.search`` module, \n",
    "but this module searches for the patterns only at the beginning of the string.\n",
    "\n",
    "Syntax: `re.match(pattern, string, flags)`\n",
    "<hr>\n",
    "\n",
    "Here, we are searching for 'is' at the start of text1,\n",
    " but beginning characters of text1 are 'Th', so this returns nothing. "
   ],
   "metadata": {
    "collapsed": false,
    "pycharm": {
     "name": "#%% md\n"
    }
   }
  },
  {
   "cell_type": "code",
   "execution_count": 10,
   "outputs": [
    {
     "name": "stdout",
     "text": [
      "None\n"
     ],
     "output_type": "stream"
    }
   ],
   "source": [
    "m = re.match(r'is', text1)\n",
    "print(m)"
   ],
   "metadata": {
    "collapsed": false,
    "pycharm": {
     "name": "#%% \n",
     "is_executing": false
    }
   }
  },
  {
   "cell_type": "markdown",
   "source": [
    "But here, Since 'Th' is searched and it's present at the beginning,\n",
    " it returns the expected re.Match Object."
   ],
   "metadata": {
    "collapsed": false,
    "pycharm": {
     "name": "#%% md\n"
    }
   }
  },
  {
   "cell_type": "code",
   "execution_count": 11,
   "outputs": [
    {
     "name": "stdout",
     "text": [
      "<re.Match object; span=(0, 2), match='Th'>\n"
     ],
     "output_type": "stream"
    }
   ],
   "source": [
    "m = re.match(r'Th', text1)\n",
    "print(m)"
   ],
   "metadata": {
    "collapsed": false,
    "pycharm": {
     "name": "#%%\n",
     "is_executing": false
    }
   }
  },
  {
   "cell_type": "markdown",
   "source": [
    "Since it is the same re.Match Object as previously seen, \n",
    "all the sub modules work in this as well."
   ],
   "metadata": {
    "collapsed": false,
    "pycharm": {
     "name": "#%% md\n"
    }
   }
  },
  {
   "cell_type": "code",
   "execution_count": 12,
   "outputs": [
    {
     "data": {
      "text/plain": "('Th', 0, 2, (0, 2))"
     },
     "metadata": {},
     "output_type": "execute_result",
     "execution_count": 12
    }
   ],
   "source": [
    "m.group(), m.start(), m.end(), m.span()"
   ],
   "metadata": {
    "collapsed": false,
    "pycharm": {
     "name": "#%%\n",
     "is_executing": false
    }
   }
  },
  {
   "cell_type": "markdown",
   "source": [
    "Also, you can access the span elements just like accessing a list element. \n",
    "Simple as using the index values."
   ],
   "metadata": {
    "collapsed": false,
    "pycharm": {
     "name": "#%% md\n"
    }
   }
  },
  {
   "cell_type": "code",
   "execution_count": 13,
   "outputs": [
    {
     "name": "stdout",
     "text": [
      "0 [1]\n"
     ],
     "output_type": "stream"
    }
   ],
   "source": [
    "x = m.span()\n",
    "print(x[0], [1])"
   ],
   "metadata": {
    "collapsed": false,
    "pycharm": {
     "name": "#%%\n",
     "is_executing": false
    }
   }
  },
  {
   "cell_type": "markdown",
   "source": [
    "### The findall() Module:\n",
    "This module, returns a list of all matched strings."
   ],
   "metadata": {
    "collapsed": false,
    "pycharm": {
     "name": "#%% md\n"
    }
   }
  },
  {
   "cell_type": "code",
   "execution_count": 14,
   "outputs": [
    {
     "data": {
      "text/plain": "['is', 'is']"
     },
     "metadata": {},
     "output_type": "execute_result",
     "execution_count": 14
    }
   ],
   "source": [
    "re.findall(r'is', text1)"
   ],
   "metadata": {
    "collapsed": false,
    "pycharm": {
     "name": "#%%\n",
     "is_executing": false
    }
   }
  },
  {
   "cell_type": "code",
   "execution_count": 15,
   "outputs": [],
   "source": [
    "text2 = \"abbbaaabbbbabababa\""
   ],
   "metadata": {
    "collapsed": false,
    "pycharm": {
     "name": "#%%\n",
     "is_executing": false
    }
   }
  },
  {
   "cell_type": "code",
   "execution_count": 16,
   "outputs": [
    {
     "data": {
      "text/plain": "['ba', 'ba', 'ba', 'ba', 'ba']"
     },
     "metadata": {},
     "output_type": "execute_result",
     "execution_count": 16
    }
   ],
   "source": [
    "re.findall(r'ba', text2)"
   ],
   "metadata": {
    "collapsed": false,
    "pycharm": {
     "name": "#%%\n",
     "is_executing": false
    }
   }
  },
  {
   "cell_type": "code",
   "execution_count": 17,
   "outputs": [],
   "source": [
    "mat = re.finditer(r'ba', text2)"
   ],
   "metadata": {
    "collapsed": false,
    "pycharm": {
     "name": "#%%\n",
     "is_executing": false
    }
   }
  },
  {
   "cell_type": "code",
   "execution_count": 18,
   "outputs": [
    {
     "name": "stdout",
     "text": [
      "ba 3 5 (3, 5)\n",
      "ba 10 12 (10, 12)\n",
      "ba 12 14 (12, 14)\n",
      "ba 14 16 (14, 16)\n",
      "ba 16 18 (16, 18)\n"
     ],
     "output_type": "stream"
    }
   ],
   "source": [
    "for m in mat:\n",
    "    print(m.group(), m.start(), m.end(), m.span())"
   ],
   "metadata": {
    "collapsed": false,
    "pycharm": {
     "name": "#%%\n",
     "is_executing": false
    }
   }
  },
  {
   "cell_type": "code",
   "execution_count": 19,
   "outputs": [
    {
     "name": "stdout",
     "text": [
      "abbxyaabbbxybababa\n"
     ],
     "output_type": "stream"
    }
   ],
   "source": [
    "print(re.sub(r'ba', 'xy', text2, count=2))"
   ],
   "metadata": {
    "collapsed": false,
    "pycharm": {
     "name": "#%%\n",
     "is_executing": false
    }
   }
  },
  {
   "cell_type": "code",
   "execution_count": 20,
   "outputs": [
    {
     "data": {
      "text/plain": "re.Pattern"
     },
     "metadata": {},
     "output_type": "execute_result",
     "execution_count": 20
    }
   ],
   "source": [
    "pat = re.compile(r'ba')\n",
    "type(pat)"
   ],
   "metadata": {
    "collapsed": false,
    "pycharm": {
     "name": "#%%\n",
     "is_executing": false
    }
   }
  },
  {
   "cell_type": "code",
   "execution_count": 21,
   "outputs": [
    {
     "data": {
      "text/plain": "['ba', 'ba', 'ba', 'ba', 'ba']"
     },
     "metadata": {},
     "output_type": "execute_result",
     "execution_count": 21
    }
   ],
   "source": [
    "re.findall(pat, text2)"
   ],
   "metadata": {
    "collapsed": false,
    "pycharm": {
     "name": "#%%\n",
     "is_executing": false
    }
   }
  },
  {
   "cell_type": "code",
   "execution_count": 22,
   "outputs": [],
   "source": [
    "text3 = \"akasad kadkad; asdadnnas; asdkakds: ajdasdj, sjdjdj; sisisiu;      hshs\""
   ],
   "metadata": {
    "collapsed": false,
    "pycharm": {
     "name": "#%%\n",
     "is_executing": false
    }
   }
  },
  {
   "cell_type": "code",
   "execution_count": 23,
   "outputs": [],
   "source": [
    "text3_list = re.split(r'[ ;:,]\\s*', text3)"
   ],
   "metadata": {
    "collapsed": false,
    "pycharm": {
     "name": "#%%\n",
     "is_executing": false
    }
   }
  },
  {
   "cell_type": "code",
   "execution_count": 24,
   "outputs": [
    {
     "name": "stdout",
     "text": [
      "['akasad', 'kadkad', 'asdadnnas', 'asdkakds', 'ajdasdj', 'sjdjdj', 'sisisiu', 'hshs']\n"
     ],
     "output_type": "stream"
    }
   ],
   "source": [
    "print(text3_list)"
   ],
   "metadata": {
    "collapsed": false,
    "pycharm": {
     "name": "#%%\n",
     "is_executing": false
    }
   }
  },
  {
   "cell_type": "markdown",
   "source": [
    "## Patterns: Repetition Coding\n",
    "\n",
    "### Two types: \n",
    "- Greedy\n",
    "- Non Greedy\n",
    "<hr>\n",
    "\n",
    "#### Greedy Repetition\n",
    "\n",
    "\\* \\+ ? {n} {m,n}"
   ],
   "metadata": {
    "collapsed": false,
    "pycharm": {
     "name": "#%% md\n"
    }
   }
  },
  {
   "cell_type": "code",
   "source": [
    "text = \"ab abb a a a abbbb abbbbbb\""
   ],
   "metadata": {
    "collapsed": false,
    "pycharm": {
     "name": "#%% \n",
     "is_executing": false
    }
   },
   "execution_count": 25,
   "outputs": []
  },
  {
   "cell_type": "markdown",
   "source": [
    "\\* Indicates 0 or more"
   ],
   "metadata": {
    "collapsed": false,
    "pycharm": {
     "name": "#%% md\n"
    }
   }
  },
  {
   "cell_type": "code",
   "execution_count": 26,
   "outputs": [
    {
     "name": "stdout",
     "text": [
      "['ab', 'abb', 'a', 'a', 'a', 'abbbb', 'abbbbbb']\n"
     ],
     "output_type": "stream"
    }
   ],
   "source": [
    "print(re.findall(r'ab*', text))"
   ],
   "metadata": {
    "collapsed": false,
    "pycharm": {
     "name": "#%%\n",
     "is_executing": false
    }
   }
  },
  {
   "cell_type": "markdown",
   "source": [
    "\\+ Indicates 1 or more"
   ],
   "metadata": {
    "collapsed": false,
    "pycharm": {
     "name": "#%% md\n"
    }
   }
  },
  {
   "cell_type": "code",
   "execution_count": 27,
   "outputs": [
    {
     "name": "stdout",
     "text": [
      "['ab', 'abb', 'abbbb', 'abbbbbb']\n"
     ],
     "output_type": "stream"
    }
   ],
   "source": [
    "print(re.findall(r'ab+', text))"
   ],
   "metadata": {
    "collapsed": false,
    "pycharm": {
     "name": "#%%\n",
     "is_executing": false
    }
   }
  },
  {
   "cell_type": "markdown",
   "source": [
    "? Indicates 0 or 1"
   ],
   "metadata": {
    "collapsed": false
   }
  },
  {
   "cell_type": "code",
   "execution_count": 28,
   "outputs": [
    {
     "name": "stdout",
     "text": [
      "['ab', 'ab', 'a', 'a', 'a', 'ab', 'ab']\n"
     ],
     "output_type": "stream"
    }
   ],
   "source": [
    "print(re.findall(r'ab?', text))\n"
   ],
   "metadata": {
    "collapsed": false,
    "pycharm": {
     "name": "#%%\n",
     "is_executing": false
    }
   }
  },
  {
   "cell_type": "markdown",
   "source": [
    "{n} Indicates exactly n"
   ],
   "metadata": {
    "collapsed": false,
    "pycharm": {
     "name": "#%% md\n"
    }
   }
  },
  {
   "cell_type": "code",
   "execution_count": 29,
   "outputs": [
    {
     "name": "stdout",
     "text": [
      "['abb', 'abb', 'abb']\n"
     ],
     "output_type": "stream"
    }
   ],
   "source": [
    "print(re.findall(r'ab{2}', text))\n"
   ],
   "metadata": {
    "collapsed": false,
    "pycharm": {
     "name": "#%%\n",
     "is_executing": false
    }
   }
  },
  {
   "cell_type": "markdown",
   "source": [
    "{m, n} Indicates m to n"
   ],
   "metadata": {
    "collapsed": false,
    "pycharm": {
     "name": "#%% md\n"
    }
   }
  },
  {
   "cell_type": "code",
   "execution_count": 30,
   "outputs": [
    {
     "name": "stdout",
     "text": [
      "['abbbb', 'abbbbb']\n"
     ],
     "output_type": "stream"
    }
   ],
   "source": [
    "print(re.findall(r'ab{3,5}', text))"
   ],
   "metadata": {
    "collapsed": false,
    "pycharm": {
     "name": "#%%\n",
     "is_executing": false
    }
   }
  },
  {
   "cell_type": "markdown",
   "source": [
    "#### Non Greedy:\n",
    "Similar to greedy, only difference is '?'"
   ],
   "metadata": {
    "collapsed": false,
    "pycharm": {
     "name": "#%% md\n"
    }
   }
  },
  {
   "cell_type": "code",
   "execution_count": 31,
   "outputs": [
    {
     "name": "stdout",
     "text": [
      "['a', 'a', 'a', 'a', 'a', 'a', 'a']\n",
      "['ab', 'ab', 'ab', 'ab']\n",
      "['a', 'a', 'a', 'a', 'a', 'a', 'a']\n",
      "['abbb', 'abbb']\n",
      "['abbb', 'abbb']\n"
     ],
     "output_type": "stream"
    }
   ],
   "source": [
    "print(re.findall(r'ab*?', text))\n",
    "print(re.findall(r'ab+?', text))\n",
    "print(re.findall(r'ab??', text))\n",
    "print(re.findall(r'ab{3}?', text))\n",
    "print(re.findall(r'ab{3,5}?', text))"
   ],
   "metadata": {
    "collapsed": false,
    "pycharm": {
     "name": "#%%\n",
     "is_executing": false
    }
   }
  },
  {
   "cell_type": "markdown",
   "source": [
    "### Character Sets:"
   ],
   "metadata": {
    "collapsed": false,
    "pycharm": {
     "name": "#%% md\n",
     "is_executing": false
    }
   }
  },
  {
   "cell_type": "code",
   "source": [
    "text = \"xyxyxyxxxxxyyyzzzxyz\""
   ],
   "metadata": {
    "collapsed": false,
    "pycharm": {
     "name": "#%% \n",
     "is_executing": false
    }
   },
   "execution_count": 32,
   "outputs": []
  },
  {
   "cell_type": "markdown",
   "source": [
    "[xyz] - Indicates \"Select if x or y or z character is matched.\""
   ],
   "metadata": {
    "collapsed": false,
    "pycharm": {
     "name": "#%% md\n"
    }
   }
  },
  {
   "cell_type": "code",
   "execution_count": 33,
   "outputs": [
    {
     "name": "stdout",
     "text": [
      "['x', 'y', 'x', 'y', 'x', 'y', 'x', 'x', 'x', 'x', 'x', 'y', 'y', 'y', 'x', 'y']\n",
      "['xy', 'xy', 'xy', 'xx', 'xx', 'xy', 'xy']\n",
      "['xyxyxyxxxxxyyy', 'xy']\n",
      "['xy', 'xy', 'xy', 'xx', 'xx', 'xy', 'xy']\n"
     ],
     "output_type": "stream"
    }
   ],
   "source": [
    "print(re.findall(r'[xy]', text))\n",
    "print(re.findall(r'x[xy]', text))\n",
    "print(re.findall(r'x[xy]+', text))\n",
    "print(re.findall(r'x[xy]+?', text))"
   ],
   "metadata": {
    "collapsed": false,
    "pycharm": {
     "name": "#%%\n",
     "is_executing": false
    }
   }
  },
  {
   "cell_type": "markdown",
   "source": [
    "^ This symbol is called __Caret__\n",
    "\n",
    "^ Indicates \"Select everything **except** the following things\""
   ],
   "metadata": {
    "collapsed": false,
    "pycharm": {
     "name": "#%% md\n"
    }
   }
  },
  {
   "cell_type": "code",
   "execution_count": 34,
   "outputs": [
    {
     "name": "stdout",
     "text": [
      "['yzzz', 'yz']\n"
     ],
     "output_type": "stream"
    }
   ],
   "source": [
    "print(re.findall(r'y[^xy]+', text))"
   ],
   "metadata": {
    "collapsed": false,
    "pycharm": {
     "name": "#%%\n",
     "is_executing": false
    }
   }
  },
  {
   "cell_type": "code",
   "execution_count": 35,
   "outputs": [],
   "source": [
    "text = \"12 3 4 5 6 S T Sample Text. +=- some Punctuation marks!!!\""
   ],
   "metadata": {
    "collapsed": false,
    "pycharm": {
     "name": "#%%\n",
     "is_executing": false
    }
   }
  },
  {
   "cell_type": "markdown",
   "source": [
    "Range [A-Z] or [a-z] or [1-9]\n",
    "\n",
    "This indicates \"Select everything from [this,to this]\""
   ],
   "metadata": {
    "collapsed": false,
    "pycharm": {
     "name": "#%% md\n"
    }
   }
  },
  {
   "cell_type": "code",
   "execution_count": 36,
   "outputs": [
    {
     "name": "stdout",
     "text": [
      "['Sample', 'Text', 'Punctuation']\n",
      "['12', '3', '4', '5', '6', 'S', 'T', 'Sample', 'Text', 'some', 'Punctuation', 'marks']\n",
      "['12 3 ', ' ', ' ', ' ', ' ', ' ', ' ', '. +=- ', ' ', ' ', '!!!']\n"
     ],
     "output_type": "stream"
    }
   ],
   "source": [
    "print(re.findall(r'[A-Z][a-z]+', text))\n",
    "print(re.findall(r'[^.\\-=+! ]+', text))\n",
    "print(re.findall(r'[1-3^.\\-=+! ]+', text))"
   ],
   "metadata": {
    "collapsed": false,
    "pycharm": {
     "name": "#%%\n",
     "is_executing": false
    }
   }
  },
  {
   "cell_type": "markdown",
   "source": [
    "### Escape Codes\n",
    "\n",
    "\\d indicates \"select all digits\"\n",
    "\n",
    "\\D indicates \"select all non-digits\""
   ],
   "metadata": {
    "collapsed": false,
    "pycharm": {
     "name": "#%% md\n",
     "is_executing": false
    }
   }
  },
  {
   "cell_type": "code",
   "execution_count": 41,
   "outputs": [],
   "source": [
    "text = \"This is a beautiful day 123   %$\""
   ],
   "metadata": {
    "collapsed": false,
    "pycharm": {
     "name": "#%%\n",
     "is_executing": false
    }
   }
  },
  {
   "cell_type": "code",
   "execution_count": 42,
   "outputs": [
    {
     "name": "stdout",
     "text": [
      "['1', '2', '3']\n",
      "['123']\n"
     ],
     "output_type": "stream"
    }
   ],
   "source": [
    "print(re.findall(r'\\d', text))\n",
    "print(re.findall(r'\\d+', text))"
   ],
   "metadata": {
    "collapsed": false,
    "pycharm": {
     "name": "#%%\n",
     "is_executing": false
    }
   }
  },
  {
   "cell_type": "code",
   "execution_count": 43,
   "outputs": [
    {
     "name": "stdout",
     "text": [
      "['T', 'h', 'i', 's', ' ', 'i', 's', ' ', 'a', ' ', 'b', 'e', 'a', 'u', 't', 'i', 'f', 'u', 'l', ' ', 'd', 'a', 'y', ' ', ' ', ' ', ' ', '%', '$']\n",
      "['This is a beautiful day ', '   %$']\n"
     ],
     "output_type": "stream"
    }
   ],
   "source": [
    "#All non digits\n",
    "\n",
    "print(re.findall(r'\\D', text))\n",
    "print(re.findall(r'\\D+', text))"
   ],
   "metadata": {
    "collapsed": false,
    "pycharm": {
     "name": "#%%\n",
     "is_executing": false
    }
   }
  },
  {
   "cell_type": "markdown",
   "source": [
    "\\s indicates \"select all space charaters\"\n",
    "\\s indicates \"select all non-space charaters\""
   ],
   "metadata": {
    "collapsed": false,
    "pycharm": {
     "name": "#%% md\n"
    }
   }
  },
  {
   "cell_type": "code",
   "execution_count": 44,
   "outputs": [
    {
     "name": "stdout",
     "text": [
      "[' ', ' ', ' ', ' ', ' ', ' ', ' ', ' ']\n",
      "[' ', ' ', ' ', ' ', ' ', '   ']\n"
     ],
     "output_type": "stream"
    }
   ],
   "source": [
    "print(re.findall(r'\\s', text))\n",
    "print(re.findall(r'\\s+', text))\n"
   ],
   "metadata": {
    "collapsed": false,
    "pycharm": {
     "name": "#%% \n",
     "is_executing": false
    }
   }
  },
  {
   "cell_type": "code",
   "execution_count": 45,
   "outputs": [
    {
     "name": "stdout",
     "text": [
      "['T', 'h', 'i', 's', 'i', 's', 'a', 'b', 'e', 'a', 'u', 't', 'i', 'f', 'u', 'l', 'd', 'a', 'y', '1', '2', '3', '%', '$']\n",
      "['This', 'is', 'a', 'beautiful', 'day', '123', '%$']\n"
     ],
     "output_type": "stream"
    }
   ],
   "source": [
    "print(re.findall(r'\\S', text))\n",
    "print(re.findall(r'\\S+', text))\n",
    "\n"
   ],
   "metadata": {
    "collapsed": false,
    "pycharm": {
     "name": "#%%\n",
     "is_executing": false
    }
   }
  },
  {
   "cell_type": "markdown",
   "source": [
    "\\w indicates \"select all alphanumeric characters [A-Z], [a-z], [0-9]\"\n",
    "\n",
    "\\W indicates \"select all non-alphanumeric characters\""
   ],
   "metadata": {
    "collapsed": false,
    "pycharm": {
     "name": "#%% md\n"
    }
   }
  },
  {
   "cell_type": "code",
   "execution_count": 46,
   "outputs": [
    {
     "name": "stdout",
     "text": [
      "['T', 'h', 'i', 's', 'i', 's', 'a', 'b', 'e', 'a', 'u', 't', 'i', 'f', 'u', 'l', 'd', 'a', 'y', '1', '2', '3']\n",
      "['This', 'is', 'a', 'beautiful', 'day', '123']\n"
     ],
     "output_type": "stream"
    }
   ],
   "source": [
    "print(re.findall(r'\\w', text))\n",
    "print(re.findall(r'\\w+', text))"
   ],
   "metadata": {
    "collapsed": false,
    "pycharm": {
     "name": "#%%\n",
     "is_executing": false
    }
   }
  },
  {
   "cell_type": "code",
   "execution_count": 47,
   "outputs": [
    {
     "name": "stdout",
     "text": [
      "[' ', ' ', ' ', ' ', ' ', ' ', ' ', ' ', '%', '$']\n",
      "[' ', ' ', ' ', ' ', ' ', '   %$']\n"
     ],
     "output_type": "stream"
    }
   ],
   "source": [
    "print(re.findall(r'\\W', text))\n",
    "print(re.findall(r'\\W+', text))"
   ],
   "metadata": {
    "collapsed": false,
    "pycharm": {
     "name": "#%%\n",
     "is_executing": false
    }
   }
  },
  {
   "cell_type": "code",
   "execution_count": null,
   "outputs": [],
   "source": [
    "\n"
   ],
   "metadata": {
    "collapsed": false,
    "pycharm": {
     "name": "#%%\n"
    }
   }
  }
 ],
 "metadata": {
  "kernelspec": {
   "name": "conda-env-tensorflow-py",
   "language": "python",
   "display_name": "Python [conda env:tensorflow]"
  },
  "language_info": {
   "codemirror_mode": {
    "name": "ipython",
    "version": 2
   },
   "file_extension": ".py",
   "mimetype": "text/x-python",
   "name": "python",
   "nbconvert_exporter": "python",
   "pygments_lexer": "ipython2",
   "version": "2.7.6"
  },
  "pycharm": {
   "stem_cell": {
    "cell_type": "raw",
    "source": [],
    "metadata": {
     "collapsed": false
    }
   }
  }
 },
 "nbformat": 4,
 "nbformat_minor": 0
}